{
 "cells": [
  {
   "cell_type": "code",
   "execution_count": 1,
   "id": "6d59b467-a172-47b2-8abc-5e9b4b21e8d7",
   "metadata": {},
   "outputs": [
    {
     "name": "stdout",
     "output_type": "stream",
     "text": [
      "Versión de TensorFlow: 2.10.0\n",
      "¡Se ha detectado al menos una GPU!\n",
      "Nombre: /physical_device:GPU:0\n",
      "Tipo: GPU\n"
     ]
    }
   ],
   "source": [
    "import tensorflow as tf\n",
    "\n",
    "# Imprimir información de la versión de TensorFlow\n",
    "print(\"Versión de TensorFlow:\", tf.__version__)\n",
    "\n",
    "# Verificar si se detecta alguna GPU\n",
    "if tf.config.list_physical_devices('GPU'):\n",
    "    print(\"¡Se ha detectado al menos una GPU!\")\n",
    "    # Imprimir información sobre las GPUs disponibles\n",
    "    for gpu in tf.config.list_physical_devices('GPU'):\n",
    "        print(\"Nombre:\", gpu.name)\n",
    "        print(\"Tipo:\", gpu.device_type)\n",
    "else:\n",
    "    print(\"No se ha detectado ninguna GPU. TensorFlow está utilizando la CPU.\")"
   ]
  }
 ],
 "metadata": {
  "kernelspec": {
   "display_name": "Python 3 (ipykernel)",
   "language": "python",
   "name": "python3"
  },
  "language_info": {
   "codemirror_mode": {
    "name": "ipython",
    "version": 3
   },
   "file_extension": ".py",
   "mimetype": "text/x-python",
   "name": "python",
   "nbconvert_exporter": "python",
   "pygments_lexer": "ipython3",
   "version": "3.10.14"
  }
 },
 "nbformat": 4,
 "nbformat_minor": 5
}
