{
 "cells": [
  {
   "cell_type": "code",
   "execution_count": 1,
   "id": "d98f026a-5f39-4b54-8d27-10478bca0e6e",
   "metadata": {},
   "outputs": [],
   "source": [
    "import os\n",
    "import shutil\n",
    "\n",
    "%matplotlib inline\n",
    "import matplotlib.pyplot as plt\n",
    "import pandas as pd\n",
    "import matplotlib\n",
    "import numpy as np\n",
    "import pydicom\n",
    "import cv2\n",
    "\n",
    "from tqdm import tqdm\n",
    "from skimage.exposure import rescale_intensity\n",
    "from PIL import Image\n",
    "from duke_dbt_data import dcmread_image\n",
    "from typing import AnyStr, BinaryIO, Dict, List, NamedTuple, Optional, Union"
   ]
  },
  {
   "cell_type": "code",
   "execution_count": 3,
   "id": "20aacb94-8108-4c91-956f-0ec811aedd2c",
   "metadata": {
    "editable": true,
    "slideshow": {
     "slide_type": ""
    },
    "tags": []
   },
   "outputs": [
    {
     "name": "stdout",
     "output_type": "stream",
     "text": [
      "Normal\n",
      "1    1356\n",
      "0     365\n",
      "Name: count, dtype: int64\n",
      "Actionable\n",
      "0    1477\n",
      "1     244\n",
      "Name: count, dtype: int64\n",
      "Benign\n",
      "0    1660\n",
      "1      61\n",
      "Name: count, dtype: int64\n",
      "Cancer\n",
      "0    1661\n",
      "1      60\n",
      "Name: count, dtype: int64\n"
     ]
    },
    {
     "data": {
      "text/html": [
       "<div>\n",
       "<style scoped>\n",
       "    .dataframe tbody tr th:only-of-type {\n",
       "        vertical-align: middle;\n",
       "    }\n",
       "\n",
       "    .dataframe tbody tr th {\n",
       "        vertical-align: top;\n",
       "    }\n",
       "\n",
       "    .dataframe thead th {\n",
       "        text-align: right;\n",
       "    }\n",
       "</style>\n",
       "<table border=\"1\" class=\"dataframe\">\n",
       "  <thead>\n",
       "    <tr style=\"text-align: right;\">\n",
       "      <th></th>\n",
       "      <th>PatientID</th>\n",
       "      <th>StudyUID</th>\n",
       "      <th>View</th>\n",
       "      <th>descriptive_path</th>\n",
       "      <th>Normal</th>\n",
       "      <th>Actionable</th>\n",
       "      <th>Benign</th>\n",
       "      <th>Cancer</th>\n",
       "    </tr>\n",
       "  </thead>\n",
       "  <tbody>\n",
       "    <tr>\n",
       "      <th>0</th>\n",
       "      <td>DBT-P00036</td>\n",
       "      <td>DBT-S03354</td>\n",
       "      <td>lcc</td>\n",
       "      <td>Breast-Cancer-Screening-DBT/DBT-P00036/01-01-2...</td>\n",
       "      <td>1</td>\n",
       "      <td>0</td>\n",
       "      <td>0</td>\n",
       "      <td>0</td>\n",
       "    </tr>\n",
       "    <tr>\n",
       "      <th>1</th>\n",
       "      <td>DBT-P00036</td>\n",
       "      <td>DBT-S03354</td>\n",
       "      <td>lmlo</td>\n",
       "      <td>Breast-Cancer-Screening-DBT/DBT-P00036/01-01-2...</td>\n",
       "      <td>1</td>\n",
       "      <td>0</td>\n",
       "      <td>0</td>\n",
       "      <td>0</td>\n",
       "    </tr>\n",
       "    <tr>\n",
       "      <th>2</th>\n",
       "      <td>DBT-P00036</td>\n",
       "      <td>DBT-S03354</td>\n",
       "      <td>rcc</td>\n",
       "      <td>Breast-Cancer-Screening-DBT/DBT-P00036/01-01-2...</td>\n",
       "      <td>1</td>\n",
       "      <td>0</td>\n",
       "      <td>0</td>\n",
       "      <td>0</td>\n",
       "    </tr>\n",
       "    <tr>\n",
       "      <th>3</th>\n",
       "      <td>DBT-P00036</td>\n",
       "      <td>DBT-S03354</td>\n",
       "      <td>rmlo</td>\n",
       "      <td>Breast-Cancer-Screening-DBT/DBT-P00036/01-01-2...</td>\n",
       "      <td>1</td>\n",
       "      <td>0</td>\n",
       "      <td>0</td>\n",
       "      <td>0</td>\n",
       "    </tr>\n",
       "    <tr>\n",
       "      <th>4</th>\n",
       "      <td>DBT-P00087</td>\n",
       "      <td>DBT-S04170</td>\n",
       "      <td>lcc</td>\n",
       "      <td>Breast-Cancer-Screening-DBT/DBT-P00087/01-01-2...</td>\n",
       "      <td>0</td>\n",
       "      <td>1</td>\n",
       "      <td>0</td>\n",
       "      <td>0</td>\n",
       "    </tr>\n",
       "  </tbody>\n",
       "</table>\n",
       "</div>"
      ],
      "text/plain": [
       "    PatientID    StudyUID  View  \\\n",
       "0  DBT-P00036  DBT-S03354   lcc   \n",
       "1  DBT-P00036  DBT-S03354  lmlo   \n",
       "2  DBT-P00036  DBT-S03354   rcc   \n",
       "3  DBT-P00036  DBT-S03354  rmlo   \n",
       "4  DBT-P00087  DBT-S04170   lcc   \n",
       "\n",
       "                                    descriptive_path  Normal  Actionable  \\\n",
       "0  Breast-Cancer-Screening-DBT/DBT-P00036/01-01-2...       1           0   \n",
       "1  Breast-Cancer-Screening-DBT/DBT-P00036/01-01-2...       1           0   \n",
       "2  Breast-Cancer-Screening-DBT/DBT-P00036/01-01-2...       1           0   \n",
       "3  Breast-Cancer-Screening-DBT/DBT-P00036/01-01-2...       1           0   \n",
       "4  Breast-Cancer-Screening-DBT/DBT-P00087/01-01-2...       0           1   \n",
       "\n",
       "   Benign  Cancer  \n",
       "0       0       0  \n",
       "1       0       0  \n",
       "2       0       0  \n",
       "3       0       0  \n",
       "4       0       0  "
      ]
     },
     "execution_count": 3,
     "metadata": {},
     "output_type": "execute_result"
    }
   ],
   "source": [
    "# Leer los archivos CSV\n",
    "df1 = pd.read_csv(\"/media/miguel/Granja azul/TFG/Codigo/InfTest/file-paths-test.csv\")\n",
    "df2 = pd.read_csv(\"/media/miguel/Granja azul/TFG/Codigo/InfTest/labels-test.csv\")\n",
    "\n",
    "# Fusionar los DataFrames en uno solo basado en las columnas comunes\n",
    "merged_df = pd.merge(df1, df2, on=[\"PatientID\", \"StudyUID\", \"View\"])\n",
    "# Eliminar la columna \"classic_path\"\n",
    "conteo_Normal = merged_df[\"Normal\"].value_counts()\n",
    "conteo_Actionable = merged_df[\"Actionable\"].value_counts()\n",
    "conteo_Benign = merged_df[\"Benign\"].value_counts()\n",
    "conteo_Cancer = merged_df[\"Cancer\"].value_counts()\n",
    "\n",
    "# Mostrar los distintos valores y sus conteos\n",
    "print(conteo_Normal)\n",
    "print(conteo_Actionable)\n",
    "print(conteo_Benign)\n",
    "print(conteo_Cancer)\n",
    "merged_df = merged_df.drop(columns=[\"classic_path\"])\n",
    "\n",
    "# Mostrar las primeras filas del DataFrame fusionado para verificar la fusión\n",
    "merged_df.head()"
   ]
  },
  {
   "cell_type": "code",
   "execution_count": 4,
   "id": "f51ce813-4c32-4588-baa2-a33dc029ab55",
   "metadata": {},
   "outputs": [
    {
     "name": "stdout",
     "output_type": "stream",
     "text": [
      "DataFrame guardado en data/merged_df_serialized.pickle\n"
     ]
    }
   ],
   "source": [
    "# Guardar el DataFrame en un archivo pickle serializado\n",
    "merged_df.to_pickle(\"/media/miguel/Granja azul/TFG/Codigo/InfTest/merged_dfTest_serialized.pickle\")\n",
    "print(f\"DataFrame guardado en data/merged_df_serialized.pickle\")"
   ]
  },
  {
   "cell_type": "code",
   "execution_count": 2,
   "id": "75102267-3df2-4d0e-8783-0e058c4a1b2c",
   "metadata": {},
   "outputs": [
    {
     "data": {
      "text/html": [
       "<div>\n",
       "<style scoped>\n",
       "    .dataframe tbody tr th:only-of-type {\n",
       "        vertical-align: middle;\n",
       "    }\n",
       "\n",
       "    .dataframe tbody tr th {\n",
       "        vertical-align: top;\n",
       "    }\n",
       "\n",
       "    .dataframe thead th {\n",
       "        text-align: right;\n",
       "    }\n",
       "</style>\n",
       "<table border=\"1\" class=\"dataframe\">\n",
       "  <thead>\n",
       "    <tr style=\"text-align: right;\">\n",
       "      <th></th>\n",
       "      <th>PatientID</th>\n",
       "      <th>StudyUID</th>\n",
       "      <th>View</th>\n",
       "      <th>descriptive_path</th>\n",
       "      <th>Normal</th>\n",
       "      <th>Actionable</th>\n",
       "      <th>Benign</th>\n",
       "      <th>Cancer</th>\n",
       "    </tr>\n",
       "  </thead>\n",
       "  <tbody>\n",
       "    <tr>\n",
       "      <th>0</th>\n",
       "      <td>DBT-P00002</td>\n",
       "      <td>DBT-S03345</td>\n",
       "      <td>lcc</td>\n",
       "      <td>Breast-Cancer-Screening-DBT/DBT-P00002/01-01-2...</td>\n",
       "      <td>1</td>\n",
       "      <td>0</td>\n",
       "      <td>0</td>\n",
       "      <td>0</td>\n",
       "    </tr>\n",
       "    <tr>\n",
       "      <th>1</th>\n",
       "      <td>DBT-P00002</td>\n",
       "      <td>DBT-S03345</td>\n",
       "      <td>lmlo</td>\n",
       "      <td>Breast-Cancer-Screening-DBT/DBT-P00002/01-01-2...</td>\n",
       "      <td>1</td>\n",
       "      <td>0</td>\n",
       "      <td>0</td>\n",
       "      <td>0</td>\n",
       "    </tr>\n",
       "    <tr>\n",
       "      <th>2</th>\n",
       "      <td>DBT-P00002</td>\n",
       "      <td>DBT-S03345</td>\n",
       "      <td>rcc</td>\n",
       "      <td>Breast-Cancer-Screening-DBT/DBT-P00002/01-01-2...</td>\n",
       "      <td>1</td>\n",
       "      <td>0</td>\n",
       "      <td>0</td>\n",
       "      <td>0</td>\n",
       "    </tr>\n",
       "    <tr>\n",
       "      <th>3</th>\n",
       "      <td>DBT-P00002</td>\n",
       "      <td>DBT-S03345</td>\n",
       "      <td>rmlo</td>\n",
       "      <td>Breast-Cancer-Screening-DBT/DBT-P00002/01-01-2...</td>\n",
       "      <td>1</td>\n",
       "      <td>0</td>\n",
       "      <td>0</td>\n",
       "      <td>0</td>\n",
       "    </tr>\n",
       "    <tr>\n",
       "      <th>4</th>\n",
       "      <td>DBT-P00114</td>\n",
       "      <td>DBT-S03767</td>\n",
       "      <td>rmlo</td>\n",
       "      <td>Breast-Cancer-Screening-DBT/DBT-P00114/01-01-2...</td>\n",
       "      <td>0</td>\n",
       "      <td>0</td>\n",
       "      <td>0</td>\n",
       "      <td>1</td>\n",
       "    </tr>\n",
       "  </tbody>\n",
       "</table>\n",
       "</div>"
      ],
      "text/plain": [
       "    PatientID    StudyUID  View  \\\n",
       "0  DBT-P00002  DBT-S03345   lcc   \n",
       "1  DBT-P00002  DBT-S03345  lmlo   \n",
       "2  DBT-P00002  DBT-S03345   rcc   \n",
       "3  DBT-P00002  DBT-S03345  rmlo   \n",
       "4  DBT-P00114  DBT-S03767  rmlo   \n",
       "\n",
       "                                    descriptive_path  Normal  Actionable  \\\n",
       "0  Breast-Cancer-Screening-DBT/DBT-P00002/01-01-2...       1           0   \n",
       "1  Breast-Cancer-Screening-DBT/DBT-P00002/01-01-2...       1           0   \n",
       "2  Breast-Cancer-Screening-DBT/DBT-P00002/01-01-2...       1           0   \n",
       "3  Breast-Cancer-Screening-DBT/DBT-P00002/01-01-2...       1           0   \n",
       "4  Breast-Cancer-Screening-DBT/DBT-P00114/01-01-2...       0           0   \n",
       "\n",
       "   Benign  Cancer  \n",
       "0       0       0  \n",
       "1       0       0  \n",
       "2       0       0  \n",
       "3       0       0  \n",
       "4       0       1  "
      ]
     },
     "execution_count": 2,
     "metadata": {},
     "output_type": "execute_result"
    }
   ],
   "source": [
    "# Cargar el DataFrame desde un archivo pickle serializado\n",
    "merged_df = pd.read_pickle(\"/media/miguel/Granja azul/TFG/Codigo/InfValidation/merged_dfValidation_serialized.pickle\")\n",
    "\n",
    "# Ahora puedes usar merged_df_recuperado como lo harías con cualquier DataFrame de Pandas\n",
    "merged_df.head()"
   ]
  },
  {
   "cell_type": "code",
   "execution_count": 5,
   "id": "d214eb4a-aba3-470b-b7d1-84136d7a4d7d",
   "metadata": {},
   "outputs": [
    {
     "name": "stdout",
     "output_type": "stream",
     "text": [
      "Breast-Cancer-Screening-DBT/DBT-P00002/01-01-2000-DBT-S03345-MAMMO diagnostic digital bilateral-69013/21098.000000-91129/1-1.dcm\n"
     ]
    }
   ],
   "source": [
    "print(merged_df.head()[\"descriptive_path\"][0])"
   ]
  },
  {
   "cell_type": "code",
   "execution_count": null,
   "id": "c44577d4-e80f-46bf-b08f-5f4b84d7abaa",
   "metadata": {},
   "outputs": [],
   "source": [
    "pathdf = \"/media/miguel/Granja azul/TFG/Codigo/InfValidation/merged_dfValidation_serialized.pickle\"\n",
    "pathRadiografias = \"/media/miguel/Granja azul/TFG/Radiografias Validacion/\"\n",
    "pathNumpys = \"/media/miguel/Granja azul/TFG/imagenesValCompletas\"\n",
    "\n",
    "# Tamaño cuadrado deseado para las imágenes (en píxeles)\n",
    "tamano_cuadrado = 720\n",
    "\n",
    "ruta_imagen = os.path.join(pathRadiografias, merged_df[\"descriptive_path\"][0])\n",
    "# Reemplazar \"NA\" con otro valor\n",
    "ruta_imagen = ruta_imagen.replace(\"000000-\", \"000000-NA-\")\n",
    "\n",
    "print(ruta_imagen)\n",
    "# Iterar sobre las filas del DataFrame merged_df\n",
    "for index, row in tqdm(merged_df.iterrows(), total=merged_df.shape[0], desc=\"Cargando imagen\"):\n",
    "    ruta_imagen = os.path.join(pathRadiografias, row[\"descriptive_path\"])\n",
    "    # Reemplazar \"NA\" con otro valor\n",
    "    ruta_imagen = ruta_imagen.replace(\"000000-\", \"000000-NA-\")\n",
    "    view = row[\"View\"]\n",
    "    nombre = f\"{view}-{index}.npy\"\n",
    "    if os.path.exists(ruta_imagen):\n",
    "        print(\"Existe\")"
   ]
  },
  {
   "cell_type": "code",
   "execution_count": null,
   "id": "53d09b9a-eef2-4db3-9021-78ff485eee31",
   "metadata": {},
   "outputs": [],
   "source": [
    "# Leer los archivos CSV\n",
    "df1 = pd.read_csv(\"/media/miguel/Granja azul/TFG/Codigo/InfTraining/file-paths-train.csv\")\n",
    "df2 = pd.read_csv(\"/media/miguel/Granja azul/TFG/Codigo/InfTraining/labels-train.csv\")\n",
    "\n",
    "# Fusionar los DataFrames en uno solo basado en las columnas comunes\n",
    "merged_df = pd.merge(df1, df2, on=[\"PatientID\", \"StudyUID\", \"View\"])\n",
    "pacientes_unicos = merged_df[\"PatientID\"].unique()\n",
    "\n",
    "# Iterar sobre cada PatientID única y contar el número de filas para cada una\n",
    "for paciente_id in pacientes_unicos:\n",
    "    num_filas = merged_df[merged_df[\"PatientID\"] == paciente_id].shape[0]\n",
    "    print(f\"PatientID: {paciente_id} - Número de filas: {num_filas}\")"
   ]
  },
  {
   "cell_type": "markdown",
   "id": "51c0f208-61dc-4ca6-8a63-918e183ad078",
   "metadata": {},
   "source": [
    "# Numero de Gradiografias por tipo:"
   ]
  },
  {
   "cell_type": "code",
   "execution_count": 6,
   "id": "0f4d41da-4d51-4dfe-886b-fce73de9ba0f",
   "metadata": {},
   "outputs": [
    {
     "name": "stdout",
     "output_type": "stream",
     "text": [
      "Normal\n",
      "1    18232\n",
      "0      916\n",
      "Name: count, dtype: int64\n",
      "Actionable\n",
      "0    18432\n",
      "1      716\n",
      "Name: count, dtype: int64\n",
      "Benign\n",
      "0    19024\n",
      "1      124\n",
      "Name: count, dtype: int64\n",
      "Cancer\n",
      "0    19072\n",
      "1       76\n",
      "Name: count, dtype: int64\n"
     ]
    },
    {
     "data": {
      "text/html": [
       "<div>\n",
       "<style scoped>\n",
       "    .dataframe tbody tr th:only-of-type {\n",
       "        vertical-align: middle;\n",
       "    }\n",
       "\n",
       "    .dataframe tbody tr th {\n",
       "        vertical-align: top;\n",
       "    }\n",
       "\n",
       "    .dataframe thead th {\n",
       "        text-align: right;\n",
       "    }\n",
       "</style>\n",
       "<table border=\"1\" class=\"dataframe\">\n",
       "  <thead>\n",
       "    <tr style=\"text-align: right;\">\n",
       "      <th></th>\n",
       "      <th>PatientID</th>\n",
       "      <th>StudyUID</th>\n",
       "      <th>View</th>\n",
       "      <th>Normal</th>\n",
       "      <th>Actionable</th>\n",
       "      <th>Benign</th>\n",
       "      <th>Cancer</th>\n",
       "    </tr>\n",
       "  </thead>\n",
       "  <tbody>\n",
       "    <tr>\n",
       "      <th>0</th>\n",
       "      <td>DBT-P00013</td>\n",
       "      <td>DBT-S00163</td>\n",
       "      <td>rmlo</td>\n",
       "      <td>0</td>\n",
       "      <td>0</td>\n",
       "      <td>1</td>\n",
       "      <td>0</td>\n",
       "    </tr>\n",
       "    <tr>\n",
       "      <th>1</th>\n",
       "      <td>DBT-P00023</td>\n",
       "      <td>DBT-S04378</td>\n",
       "      <td>lcc</td>\n",
       "      <td>0</td>\n",
       "      <td>1</td>\n",
       "      <td>0</td>\n",
       "      <td>0</td>\n",
       "    </tr>\n",
       "    <tr>\n",
       "      <th>2</th>\n",
       "      <td>DBT-P00023</td>\n",
       "      <td>DBT-S04378</td>\n",
       "      <td>lmlo</td>\n",
       "      <td>0</td>\n",
       "      <td>1</td>\n",
       "      <td>0</td>\n",
       "      <td>0</td>\n",
       "    </tr>\n",
       "    <tr>\n",
       "      <th>3</th>\n",
       "      <td>DBT-P00023</td>\n",
       "      <td>DBT-S04378</td>\n",
       "      <td>rcc</td>\n",
       "      <td>0</td>\n",
       "      <td>1</td>\n",
       "      <td>0</td>\n",
       "      <td>0</td>\n",
       "    </tr>\n",
       "    <tr>\n",
       "      <th>4</th>\n",
       "      <td>DBT-P00023</td>\n",
       "      <td>DBT-S04378</td>\n",
       "      <td>rmlo</td>\n",
       "      <td>0</td>\n",
       "      <td>1</td>\n",
       "      <td>0</td>\n",
       "      <td>0</td>\n",
       "    </tr>\n",
       "  </tbody>\n",
       "</table>\n",
       "</div>"
      ],
      "text/plain": [
       "    PatientID    StudyUID  View  Normal  Actionable  Benign  Cancer\n",
       "0  DBT-P00013  DBT-S00163  rmlo       0           0       1       0\n",
       "1  DBT-P00023  DBT-S04378   lcc       0           1       0       0\n",
       "2  DBT-P00023  DBT-S04378  lmlo       0           1       0       0\n",
       "3  DBT-P00023  DBT-S04378   rcc       0           1       0       0\n",
       "4  DBT-P00023  DBT-S04378  rmlo       0           1       0       0"
      ]
     },
     "execution_count": 6,
     "metadata": {},
     "output_type": "execute_result"
    }
   ],
   "source": [
    "# Leer los archivos CSV\n",
    "df1 = pd.read_csv(\"/media/miguel/Granja azul/TFG/Codigo/InfTraining/file-paths-train.csv\")\n",
    "df2 = pd.read_csv(\"/media/miguel/Granja azul/TFG/Codigo/InfTraining/labels-train.csv\")\n",
    "\n",
    "# Fusionar los DataFrames en uno solo basado en las columnas comunes\n",
    "merged_df = pd.merge(df1, df2, on=[\"PatientID\", \"StudyUID\", \"View\"])\n",
    "\n",
    "conteo_Normal = df2[\"Normal\"].value_counts()\n",
    "conteo_Actionable = df2[\"Actionable\"].value_counts()\n",
    "conteo_Benign = df2[\"Benign\"].value_counts()\n",
    "conteo_Cancer = df2[\"Cancer\"].value_counts()\n",
    "\n",
    "# Mostrar los distintos valores y sus conteos\n",
    "print(conteo_Normal)\n",
    "print(conteo_Actionable)\n",
    "print(conteo_Benign)\n",
    "print(conteo_Cancer)\n",
    "df2.head()"
   ]
  },
  {
   "cell_type": "code",
   "execution_count": 5,
   "id": "c0882cef-5b57-4951-bf39-082385b59350",
   "metadata": {},
   "outputs": [
    {
     "name": "stdout",
     "output_type": "stream",
     "text": [
      "Normal\n",
      "1    928\n",
      "0    235\n",
      "Name: count, dtype: int64\n",
      "Actionable\n",
      "0    1003\n",
      "1     160\n",
      "Name: count, dtype: int64\n",
      "Benign\n",
      "0    1125\n",
      "1      38\n",
      "Name: count, dtype: int64\n",
      "Cancer\n",
      "0    1126\n",
      "1      37\n",
      "Name: count, dtype: int64\n"
     ]
    }
   ],
   "source": [
    "pathdf = \"/media/miguel/Granja azul/TFG/Codigo/InfValidation/merged_dfValidation_serialized.pickle\"\n",
    "merged_df = pd.read_pickle(pathdf)\n",
    "\n",
    "\n",
    "conteo_Normal = merged_df[\"Normal\"].value_counts()\n",
    "conteo_Actionable = merged_df[\"Actionable\"].value_counts()\n",
    "conteo_Benign = merged_df[\"Benign\"].value_counts()\n",
    "conteo_Cancer = merged_df[\"Cancer\"].value_counts()\n",
    "\n",
    "# Mostrar los distintos valores y sus conteos\n",
    "print(conteo_Normal)\n",
    "print(conteo_Actionable)\n",
    "print(conteo_Benign)\n",
    "print(conteo_Cancer)"
   ]
  },
  {
   "cell_type": "code",
   "execution_count": 8,
   "id": "8b62611e-e049-49e8-9968-e3424eb6b896",
   "metadata": {},
   "outputs": [
    {
     "name": "stdout",
     "output_type": "stream",
     "text": [
      "Normal\n",
      "1    1356\n",
      "0     365\n",
      "Name: count, dtype: int64\n",
      "Actionable\n",
      "0    1477\n",
      "1     244\n",
      "Name: count, dtype: int64\n",
      "Benign\n",
      "0    1660\n",
      "1      61\n",
      "Name: count, dtype: int64\n",
      "Cancer\n",
      "0    1661\n",
      "1      60\n",
      "Name: count, dtype: int64\n"
     ]
    }
   ],
   "source": [
    "pathdf = \"/media/miguel/Granja azul/TFG/Codigo/InfTest/merged_dfTest_serialized.pickle\"\n",
    "merged_df = pd.read_pickle(pathdf)\n",
    "\n",
    "\n",
    "conteo_Normal = merged_df[\"Normal\"].value_counts()\n",
    "conteo_Actionable = merged_df[\"Actionable\"].value_counts()\n",
    "conteo_Benign = merged_df[\"Benign\"].value_counts()\n",
    "conteo_Cancer = merged_df[\"Cancer\"].value_counts()\n",
    "\n",
    "# Mostrar los distintos valores y sus conteos\n",
    "print(conteo_Normal)\n",
    "print(conteo_Actionable)\n",
    "print(conteo_Benign)\n",
    "print(conteo_Cancer)"
   ]
  },
  {
   "cell_type": "markdown",
   "id": "4fda3272-8904-4ff2-a751-f7d68d2cdfed",
   "metadata": {},
   "source": [
    "# Prueba de procesamiento: numpys a 720, 720, 5"
   ]
  },
  {
   "cell_type": "code",
   "execution_count": 8,
   "id": "821b8a8b-18aa-469e-bc9e-9061e71fc6cd",
   "metadata": {},
   "outputs": [
    {
     "name": "stderr",
     "output_type": "stream",
     "text": [
      "Cargando imagen:   0%|                                 | 0/1163 [00:00<?, ?it/s]"
     ]
    },
    {
     "name": "stdout",
     "output_type": "stream",
     "text": [
      "(71, 720, 720, 2)\n",
      "(5, 720, 720, 2)\n"
     ]
    },
    {
     "name": "stderr",
     "output_type": "stream",
     "text": [
      "Cargando imagen:   0%|                         | 2/1163 [00:00<04:32,  4.26it/s]"
     ]
    },
    {
     "name": "stdout",
     "output_type": "stream",
     "text": [
      "(65, 720, 720, 2)\n",
      "(5, 720, 720, 2)\n"
     ]
    },
    {
     "name": "stderr",
     "output_type": "stream",
     "text": [
      "Cargando imagen:   0%|                         | 3/1163 [00:00<06:03,  3.19it/s]"
     ]
    },
    {
     "name": "stdout",
     "output_type": "stream",
     "text": [
      "(68, 720, 720, 2)\n",
      "(5, 720, 720, 2)\n"
     ]
    },
    {
     "name": "stderr",
     "output_type": "stream",
     "text": [
      "Cargando imagen:   0%|                         | 4/1163 [00:01<06:45,  2.86it/s]"
     ]
    },
    {
     "name": "stdout",
     "output_type": "stream",
     "text": [
      "(61, 720, 720, 2)\n",
      "(5, 720, 720, 2)\n"
     ]
    },
    {
     "name": "stderr",
     "output_type": "stream",
     "text": [
      "Cargando imagen:   0%|                         | 5/1163 [00:01<07:12,  2.68it/s]"
     ]
    },
    {
     "name": "stdout",
     "output_type": "stream",
     "text": [
      "(64, 720, 720, 2)\n",
      "(5, 720, 720, 2)\n"
     ]
    },
    {
     "name": "stderr",
     "output_type": "stream",
     "text": [
      "Cargando imagen:   1%|▏                        | 6/1163 [00:02<07:29,  2.58it/s]"
     ]
    },
    {
     "name": "stdout",
     "output_type": "stream",
     "text": [
      "(69, 720, 720, 2)\n",
      "(5, 720, 720, 2)\n"
     ]
    },
    {
     "name": "stderr",
     "output_type": "stream",
     "text": [
      "Cargando imagen:   1%|▏                        | 7/1163 [00:02<07:03,  2.73it/s]"
     ]
    },
    {
     "name": "stdout",
     "output_type": "stream",
     "text": [
      "(65, 720, 720, 2)\n",
      "(5, 720, 720, 2)\n"
     ]
    },
    {
     "name": "stderr",
     "output_type": "stream",
     "text": [
      "Cargando imagen:   1%|▏                        | 8/1163 [00:02<07:25,  2.59it/s]"
     ]
    },
    {
     "name": "stdout",
     "output_type": "stream",
     "text": [
      "(73, 720, 720, 2)\n",
      "(5, 720, 720, 2)\n"
     ]
    },
    {
     "name": "stderr",
     "output_type": "stream",
     "text": [
      "Cargando imagen:   1%|▏                        | 9/1163 [00:03<07:40,  2.50it/s]"
     ]
    },
    {
     "name": "stdout",
     "output_type": "stream",
     "text": [
      "(73, 720, 720, 2)\n",
      "(5, 720, 720, 2)\n"
     ]
    },
    {
     "name": "stderr",
     "output_type": "stream",
     "text": [
      "Cargando imagen:   1%|▏                       | 10/1163 [00:03<08:19,  2.31it/s]"
     ]
    },
    {
     "name": "stdout",
     "output_type": "stream",
     "text": [
      "(76, 720, 720, 2)\n",
      "(5, 720, 720, 2)\n"
     ]
    },
    {
     "name": "stderr",
     "output_type": "stream",
     "text": [
      "Cargando imagen:   1%|▏                       | 11/1163 [00:04<08:34,  2.24it/s]"
     ]
    },
    {
     "name": "stdout",
     "output_type": "stream",
     "text": [
      "(74, 720, 720, 2)\n",
      "(5, 720, 720, 2)\n"
     ]
    },
    {
     "name": "stderr",
     "output_type": "stream",
     "text": [
      "Cargando imagen:   1%|▏                       | 12/1163 [00:04<08:07,  2.36it/s]"
     ]
    },
    {
     "name": "stdout",
     "output_type": "stream",
     "text": [
      "(67, 720, 720, 2)\n",
      "(5, 720, 720, 2)\n"
     ]
    },
    {
     "name": "stderr",
     "output_type": "stream",
     "text": [
      "Cargando imagen:   1%|▎                       | 13/1163 [00:05<07:34,  2.53it/s]"
     ]
    },
    {
     "name": "stdout",
     "output_type": "stream",
     "text": [
      "(81, 720, 720, 2)\n",
      "(5, 720, 720, 2)\n",
      "(61, 720, 720, 2)\n",
      "(5, 720, 720, 2)\n"
     ]
    },
    {
     "name": "stderr",
     "output_type": "stream",
     "text": [
      "Cargando imagen:   1%|▎                       | 15/1163 [00:05<06:17,  3.04it/s]"
     ]
    },
    {
     "name": "stdout",
     "output_type": "stream",
     "text": [
      "(67, 720, 720, 2)\n",
      "(5, 720, 720, 2)\n"
     ]
    },
    {
     "name": "stderr",
     "output_type": "stream",
     "text": [
      "Cargando imagen:   1%|▎                       | 16/1163 [00:05<06:30,  2.94it/s]"
     ]
    },
    {
     "name": "stdout",
     "output_type": "stream",
     "text": [
      "(60, 720, 720, 2)\n",
      "(5, 720, 720, 2)\n"
     ]
    },
    {
     "name": "stderr",
     "output_type": "stream",
     "text": [
      "Cargando imagen:   1%|▎                       | 17/1163 [00:06<06:39,  2.87it/s]"
     ]
    },
    {
     "name": "stdout",
     "output_type": "stream",
     "text": [
      "(67, 720, 720, 2)\n",
      "(5, 720, 720, 2)\n"
     ]
    },
    {
     "name": "stderr",
     "output_type": "stream",
     "text": [
      "Cargando imagen:   2%|▍                       | 24/1163 [00:06<02:08,  8.86it/s]"
     ]
    },
    {
     "name": "stdout",
     "output_type": "stream",
     "text": [
      "(69, 720, 720, 2)\n",
      "(5, 720, 720, 2)\n",
      "(76, 720, 720, 2)\n",
      "(5, 720, 720, 2)\n",
      "(72, 720, 720, 2)\n",
      "(5, 720, 720, 2)\n",
      "(75, 720, 720, 2)\n",
      "(5, 720, 720, 2)\n",
      "(39, 720, 720, 2)\n",
      "(5, 720, 720, 2)\n",
      "(42, 720, 720, 2)\n",
      "(5, 720, 720, 2)\n",
      "(42, 720, 720, 2)\n",
      "(5, 720, 720, 2)\n",
      "(38, 720, 720, 2)\n",
      "(5, 720, 720, 2)\n",
      "(86, 720, 720, 2)\n",
      "(5, 720, 720, 2)\n",
      "(66, 720, 720, 2)\n",
      "(5, 720, 720, 2)\n",
      "(72, 720, 720, 2)\n",
      "(5, 720, 720, 2)\n",
      "(61, 720, 720, 2)\n",
      "(5, 720, 720, 2)\n",
      "(70, 720, 720, 2)\n",
      "(5, 720, 720, 2)\n"
     ]
    },
    {
     "name": "stderr",
     "output_type": "stream",
     "text": [
      "Cargando imagen:   3%|▊                       | 38/1163 [00:06<00:45, 24.66it/s]"
     ]
    },
    {
     "name": "stdout",
     "output_type": "stream",
     "text": [
      "(60, 720, 720, 2)\n",
      "(5, 720, 720, 2)\n",
      "(67, 720, 720, 2)\n",
      "(5, 720, 720, 2)\n",
      "(59, 720, 720, 2)\n",
      "(5, 720, 720, 2)\n",
      "(67, 720, 720, 2)\n",
      "(5, 720, 720, 2)\n",
      "(72, 720, 720, 2)\n",
      "(5, 720, 720, 2)\n",
      "(68, 720, 720, 2)\n",
      "(5, 720, 720, 2)\n",
      "(65, 720, 720, 2)\n",
      "(5, 720, 720, 2)\n",
      "(68, 720, 720, 2)\n",
      "(5, 720, 720, 2)\n",
      "(69, 720, 720, 2)\n",
      "(5, 720, 720, 2)\n",
      "(66, 720, 720, 2)\n",
      "(5, 720, 720, 2)\n",
      "(47, 720, 720, 2)\n",
      "(5, 720, 720, 2)\n",
      "(52, 720, 720, 2)\n",
      "(5, 720, 720, 2)\n"
     ]
    },
    {
     "name": "stderr",
     "output_type": "stream",
     "text": [
      "Cargando imagen:   4%|▉                       | 43/1163 [00:07<01:23, 13.45it/s]"
     ]
    },
    {
     "name": "stdout",
     "output_type": "stream",
     "text": [
      "(48, 720, 720, 2)\n",
      "(5, 720, 720, 2)\n",
      "(48, 720, 720, 2)\n",
      "(5, 720, 720, 2)\n",
      "(52, 720, 720, 2)\n",
      "(5, 720, 720, 2)\n"
     ]
    },
    {
     "name": "stderr",
     "output_type": "stream",
     "text": [
      "Cargando imagen:   4%|▉                       | 45/1163 [00:08<03:36,  5.17it/s]\n"
     ]
    },
    {
     "ename": "KeyboardInterrupt",
     "evalue": "",
     "output_type": "error",
     "traceback": [
      "\u001b[0;31m---------------------------------------------------------------------------\u001b[0m",
      "\u001b[0;31mKeyboardInterrupt\u001b[0m                         Traceback (most recent call last)",
      "Cell \u001b[0;32mIn[8], line 36\u001b[0m\n\u001b[1;32m     34\u001b[0m     coger5Imagenes(arrayImagenes)\n\u001b[1;32m     35\u001b[0m \u001b[38;5;28;01mif\u001b[39;00m os\u001b[38;5;241m.\u001b[39mpath\u001b[38;5;241m.\u001b[39mexists(os\u001b[38;5;241m.\u001b[39mpath\u001b[38;5;241m.\u001b[39mjoin(\u001b[38;5;124mf\u001b[39m\u001b[38;5;124m\"\u001b[39m\u001b[38;5;132;01m{\u001b[39;00mpathNumpys\u001b[38;5;132;01m}\u001b[39;00m\u001b[38;5;124m/Cancer\u001b[39m\u001b[38;5;124m\"\u001b[39m, nombre)):\n\u001b[0;32m---> 36\u001b[0m     arrayImagenes \u001b[38;5;241m=\u001b[39m \u001b[43mnp\u001b[49m\u001b[38;5;241;43m.\u001b[39;49m\u001b[43mload\u001b[49m\u001b[43m(\u001b[49m\u001b[43mos\u001b[49m\u001b[38;5;241;43m.\u001b[39;49m\u001b[43mpath\u001b[49m\u001b[38;5;241;43m.\u001b[39;49m\u001b[43mjoin\u001b[49m\u001b[43m(\u001b[49m\u001b[38;5;124;43mf\u001b[39;49m\u001b[38;5;124;43m\"\u001b[39;49m\u001b[38;5;132;43;01m{\u001b[39;49;00m\u001b[43mpathNumpys\u001b[49m\u001b[38;5;132;43;01m}\u001b[39;49;00m\u001b[38;5;124;43m/Cancer\u001b[39;49m\u001b[38;5;124;43m\"\u001b[39;49m\u001b[43m,\u001b[49m\u001b[43m \u001b[49m\u001b[43mnombre\u001b[49m\u001b[43m)\u001b[49m\u001b[43m)\u001b[49m\n\u001b[1;32m     37\u001b[0m     coger5Imagenes(arrayImagenes)\n",
      "File \u001b[0;32m~/anaconda3/envs/deep/lib/python3.12/site-packages/numpy/lib/npyio.py:456\u001b[0m, in \u001b[0;36mload\u001b[0;34m(file, mmap_mode, allow_pickle, fix_imports, encoding, max_header_size)\u001b[0m\n\u001b[1;32m    453\u001b[0m         \u001b[38;5;28;01mreturn\u001b[39;00m \u001b[38;5;28mformat\u001b[39m\u001b[38;5;241m.\u001b[39mopen_memmap(file, mode\u001b[38;5;241m=\u001b[39mmmap_mode,\n\u001b[1;32m    454\u001b[0m                                   max_header_size\u001b[38;5;241m=\u001b[39mmax_header_size)\n\u001b[1;32m    455\u001b[0m     \u001b[38;5;28;01melse\u001b[39;00m:\n\u001b[0;32m--> 456\u001b[0m         \u001b[38;5;28;01mreturn\u001b[39;00m \u001b[38;5;28;43mformat\u001b[39;49m\u001b[38;5;241;43m.\u001b[39;49m\u001b[43mread_array\u001b[49m\u001b[43m(\u001b[49m\u001b[43mfid\u001b[49m\u001b[43m,\u001b[49m\u001b[43m \u001b[49m\u001b[43mallow_pickle\u001b[49m\u001b[38;5;241;43m=\u001b[39;49m\u001b[43mallow_pickle\u001b[49m\u001b[43m,\u001b[49m\n\u001b[1;32m    457\u001b[0m \u001b[43m                                 \u001b[49m\u001b[43mpickle_kwargs\u001b[49m\u001b[38;5;241;43m=\u001b[39;49m\u001b[43mpickle_kwargs\u001b[49m\u001b[43m,\u001b[49m\n\u001b[1;32m    458\u001b[0m \u001b[43m                                 \u001b[49m\u001b[43mmax_header_size\u001b[49m\u001b[38;5;241;43m=\u001b[39;49m\u001b[43mmax_header_size\u001b[49m\u001b[43m)\u001b[49m\n\u001b[1;32m    459\u001b[0m \u001b[38;5;28;01melse\u001b[39;00m:\n\u001b[1;32m    460\u001b[0m     \u001b[38;5;66;03m# Try a pickle\u001b[39;00m\n\u001b[1;32m    461\u001b[0m     \u001b[38;5;28;01mif\u001b[39;00m \u001b[38;5;129;01mnot\u001b[39;00m allow_pickle:\n",
      "File \u001b[0;32m~/anaconda3/envs/deep/lib/python3.12/site-packages/numpy/lib/format.py:809\u001b[0m, in \u001b[0;36mread_array\u001b[0;34m(fp, allow_pickle, pickle_kwargs, max_header_size)\u001b[0m\n\u001b[1;32m    806\u001b[0m \u001b[38;5;28;01melse\u001b[39;00m:\n\u001b[1;32m    807\u001b[0m     \u001b[38;5;28;01mif\u001b[39;00m isfileobj(fp):\n\u001b[1;32m    808\u001b[0m         \u001b[38;5;66;03m# We can use the fast fromfile() function.\u001b[39;00m\n\u001b[0;32m--> 809\u001b[0m         array \u001b[38;5;241m=\u001b[39m \u001b[43mnumpy\u001b[49m\u001b[38;5;241;43m.\u001b[39;49m\u001b[43mfromfile\u001b[49m\u001b[43m(\u001b[49m\u001b[43mfp\u001b[49m\u001b[43m,\u001b[49m\u001b[43m \u001b[49m\u001b[43mdtype\u001b[49m\u001b[38;5;241;43m=\u001b[39;49m\u001b[43mdtype\u001b[49m\u001b[43m,\u001b[49m\u001b[43m \u001b[49m\u001b[43mcount\u001b[49m\u001b[38;5;241;43m=\u001b[39;49m\u001b[43mcount\u001b[49m\u001b[43m)\u001b[49m\n\u001b[1;32m    810\u001b[0m     \u001b[38;5;28;01melse\u001b[39;00m:\n\u001b[1;32m    811\u001b[0m         \u001b[38;5;66;03m# This is not a real file. We have to read it the\u001b[39;00m\n\u001b[1;32m    812\u001b[0m         \u001b[38;5;66;03m# memory-intensive way.\u001b[39;00m\n\u001b[0;32m   (...)\u001b[0m\n\u001b[1;32m    820\u001b[0m         \u001b[38;5;66;03m# not correctly instantiate zero-width string dtypes; see\u001b[39;00m\n\u001b[1;32m    821\u001b[0m         \u001b[38;5;66;03m# https://github.com/numpy/numpy/pull/6430\u001b[39;00m\n\u001b[1;32m    822\u001b[0m         array \u001b[38;5;241m=\u001b[39m numpy\u001b[38;5;241m.\u001b[39mndarray(count, dtype\u001b[38;5;241m=\u001b[39mdtype)\n",
      "\u001b[0;31mKeyboardInterrupt\u001b[0m: "
     ]
    }
   ],
   "source": [
    "def coger5Imagenes(arrayImagenes):\n",
    "    # Cojemos 5 imagenes del total\n",
    "    n = len(arrayImagenes)\n",
    "    #print(arrayImagenes.shape)\n",
    "    indices_seleccionados = [2, n // 4, n // 2, 3 * n // 4, n - 3]\n",
    "    # Seleccionar las imágenes en las posiciones especificadas\n",
    "    imagenes_seleccionadas = arrayImagenes[indices_seleccionados]\n",
    "    #print(imagenes_seleccionadas.shape)\n",
    "\n",
    "\n",
    "pathdf = \"/media/miguel/Granja azul/TFG/Codigo/InfValidation/merged_dfValidation_serialized.pickle\"\n",
    "pathNumpys = \"/media/miguel/Granja azul/TFG/imagenesValCompletas\"\n",
    "pathNumpySave = \"/media/miguel/Granja azul/TFG/imagenesValCompletas\"\n",
    "\n",
    "# Cargar el DataFrame desde un archivo pickle serializado\n",
    "merged_df = pd.read_pickle(pathdf)\n",
    "\n",
    "# Tamaño cuadrado deseado para las imágenes (en píxeles)\n",
    "tamano_cuadrado = 720\n",
    "\n",
    "# Iterar sobre las filas del DataFrame merged_df\n",
    "for index, row in tqdm(merged_df.iterrows(), total=merged_df.shape[0], desc=\"Cargando imagen\"):\n",
    "    view = row[\"View\"]\n",
    "    nombre = f\"{view}-{index}.npy\"\n",
    "    if os.path.exists(os.path.join(f\"{pathNumpys}/Normal\", nombre)):\n",
    "        arrayImagenes = np.load(os.path.join(f\"{pathNumpys}/Normal\", nombre))\n",
    "        coger5Imagenes(arrayImagenes)\n",
    "    if os.path.exists(os.path.join(f\"{pathNumpys}/Actionable\", nombre)):\n",
    "        arrayImagenes = np.load(os.path.join(f\"{pathNumpys}/Actionable\", nombre))\n",
    "        coger5Imagenes(arrayImagenes)\n",
    "    if os.path.exists(os.path.join(f\"{pathNumpys}/Benign\", nombre)):\n",
    "        arrayImagenes = np.load(os.path.join(f\"{pathNumpys}/Benign\", nombre))\n",
    "        coger5Imagenes(arrayImagenes)\n",
    "    if os.path.exists(os.path.join(f\"{pathNumpys}/Cancer\", nombre)):\n",
    "        arrayImagenes = np.load(os.path.join(f\"{pathNumpys}/Cancer\", nombre))\n",
    "        coger5Imagenes(arrayImagenes)\n",
    "                    \n",
    "    "
   ]
  }
 ],
 "metadata": {
  "kernelspec": {
   "display_name": "Python 3 (ipykernel)",
   "language": "python",
   "name": "python3"
  },
  "language_info": {
   "codemirror_mode": {
    "name": "ipython",
    "version": 3
   },
   "file_extension": ".py",
   "mimetype": "text/x-python",
   "name": "python",
   "nbconvert_exporter": "python",
   "pygments_lexer": "ipython3",
   "version": "3.9.19"
  }
 },
 "nbformat": 4,
 "nbformat_minor": 5
}
