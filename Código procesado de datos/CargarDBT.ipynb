{
 "cells": [
  {
   "cell_type": "code",
   "execution_count": 1,
   "id": "8172e2c7-ec06-483b-8d1b-57aba418c19d",
   "metadata": {
    "editable": true,
    "slideshow": {
     "slide_type": ""
    },
    "tags": []
   },
   "outputs": [],
   "source": [
    "import os\n",
    "import shutil\n",
    "import matplotlib.colors as mcolors\n",
    "import random\n",
    "import matplotlib.pyplot as plt\n",
    "import pandas as pd\n",
    "import matplotlib\n",
    "import numpy as np\n",
    "import pydicom\n",
    "import cv2\n",
    "\n",
    "from tqdm import tqdm\n",
    "from PIL import Image\n",
    "from duke_dbt_data import dcmread_image\n",
    "from typing import AnyStr, BinaryIO, Dict, List, NamedTuple, Optional, Union\n",
    "from skimage.transform import resize\n",
    "from skimage.exposure import rescale_intensity\n",
    "from skimage.metrics import structural_similarity as ssim"
   ]
  },
  {
   "cell_type": "code",
   "execution_count": 2,
   "id": "77925937-6765-484c-a1c8-d5b6ad713c82",
   "metadata": {
    "editable": true,
    "slideshow": {
     "slide_type": ""
    },
    "tags": []
   },
   "outputs": [],
   "source": [
    "def combinar_imagenes(imagenes_seleccionadas):\n",
    "    # Asegurarse de que tenemos al menos una imagen\n",
    "    if len(imagenes_seleccionadas) > 0:\n",
    "        # Convertir imagenes_seleccionadas a una matriz numpy\n",
    "        imagenes_seleccionadas = np.array(imagenes_seleccionadas)\n",
    "        \n",
    "        # Verificar que tengamos al menos 4 imágenes seleccionadas\n",
    "        if imagenes_seleccionadas.shape[0] >= 4:\n",
    "            # Crear un array para almacenar las imágenes reorganizadas\n",
    "            imagenes_reorganizadas = np.zeros((1440,1440), dtype=np.uint8)\n",
    "            \n",
    "            # Iterar sobre cada imagen y colocarla en su posición deseada\n",
    "            for i, img in enumerate(imagenes_seleccionadas[:4]):\n",
    "                if i == 0:  # Parte superior izquierda\n",
    "                    imagenes_reorganizadas[:720, :720] = img.astype(np.uint8)\n",
    "                elif i == 1:  # Parte superior derecha\n",
    "                    imagenes_reorganizadas[:720, 720:] = img.astype(np.uint8)\n",
    "                elif i == 2:  # Parte inferior izquierda\n",
    "                    imagenes_reorganizadas[720:, :720] = img.astype(np.uint8)\n",
    "                elif i == 3:  # Parte inferior derecha\n",
    "                    imagenes_reorganizadas[720:, 720:] = img.astype(np.uint8)\n",
    "    \n",
    "            return imagenes_reorganizadas\n",
    "        else:\n",
    "            print(\"Error: Se requieren al menos 4 imágenes seleccionadas.\")\n",
    "    else:\n",
    "        print(\"Error: No se han seleccionado imágenes.\")\n",
    "    print(imagenes_reorganizadas.shape)\n",
    "    \n",
    "# Ejemplo de uso\n",
    "# Suponiendo que tienes una lista de imágenes llamada imagenes_seleccionadas\n",
    "# Llamamos a la función con esta lista de imágenes\n",
    "# resultado = combinar_imagenes(imagenes_seleccionadas)\n",
    "\n",
    "def seleccionar_imagenes(columna, filas_mismo_study_uid, boxes_df, pathNumpy):\n",
    "    # Inicializar las imágenes seleccionadas con imágenes en negro de tamaño 720x720\n",
    "    imagenes_seleccionadas = np.zeros((4, 720, 720), dtype=np.uint8)\n",
    "    for i, row in filas_mismo_study_uid.iterrows():\n",
    "        PatientID = row[\"PatientID\"]\n",
    "        StudyUID = row[\"StudyUID\"]\n",
    "        view = row[\"View\"]\n",
    "        nombre = f\"{view}-{i}.npy\"\n",
    "        ruta = os.path.join(f\"{pathNumpy}{columna}\", nombre)\n",
    "        #print(ruta)\n",
    "        if os.path.exists(ruta):\n",
    "            imagen_cargada = np.load(ruta)\n",
    "            #print(columna)\n",
    "            if columna == \"/Normal\" or columna == \"/Actionable\":\n",
    "                longitud_primera_dimension = imagen_cargada.shape[0]\n",
    "                indice_slice = int(longitud_primera_dimension * 0.40898656) # Es la media de donde se encuentran los canceres\n",
    "            else:\n",
    "                # Usando indexación booleana para filtrar el DataFrame\n",
    "                fila_deseada = boxes_df[(boxes_df['PatientID'] == PatientID) & (boxes_df['StudyUID'] == StudyUID)]\n",
    "                fila_deseada = fila_deseada.iloc[0]\n",
    "                indice_slice = fila_deseada['Slice']\n",
    "\n",
    "            #print(\"Indice Slice:\",indice_slice)\n",
    "            # Verificar si el índice es válido\n",
    "            if indice_slice < imagen_cargada.shape[0]:\n",
    "                if view == 'lcc':\n",
    "                    imagenes_seleccionadas[0] = imagen_cargada[indice_slice, :, :, 1]\n",
    "                elif view == 'rcc':\n",
    "                    imagenes_seleccionadas[1] = imagen_cargada[indice_slice, :, :, 1]\n",
    "                elif view == 'lmlo':\n",
    "                    imagenes_seleccionadas[2] = imagen_cargada[indice_slice, :, :, 1]\n",
    "                elif view == 'rmlo':\n",
    "                    imagenes_seleccionadas[3] = imagen_cargada[indice_slice, :, :, 1]\n",
    "                \n",
    "    return imagenes_seleccionadas\n",
    "\n",
    "def obtener_columna(fila):\n",
    "    # Verificar el valor de cada columna y asignar el nombre correspondiente a las variables\n",
    "    columna = None\n",
    "    if fila[\"Normal\"] == 1:\n",
    "        columna = \"/Normal\"\n",
    "    elif fila[\"Actionable\"] == 1:\n",
    "        columna = \"/Actionable\"\n",
    "    elif fila[\"Benign\"] == 1:\n",
    "        columna = \"/Benign\"\n",
    "    elif fila[\"Cancer\"] == 1:\n",
    "        columna = \"/Cancer\"\n",
    "    return columna"
   ]
  },
  {
   "cell_type": "code",
   "execution_count": 56,
   "id": "893db367-131e-4158-bf66-537fac357208",
   "metadata": {
    "editable": true,
    "slideshow": {
     "slide_type": ""
    },
    "tags": []
   },
   "outputs": [
    {
     "name": "stdout",
     "output_type": "stream",
     "text": [
      "La media de valores porcentuales de la columna 'Slice' con respecto a 'VolumeSlices' es: 40.898655837115925\n"
     ]
    }
   ],
   "source": [
    "pathdfTest = \"D:/Codigo/Datos/InfTest/BCS-DBT-boxes-test-v2-PHASE-2-Jan-2024.csv\"\n",
    "pathdfVal = \"D:/Codigo/Datos/InfValidation/boxes-validation.csv\"\n",
    "pathdfTrain = \"D:/Codigo/Datos/InfTraining/boxes-train.csv\"\n",
    "\n",
    "merged_dfTest = pd.read_csv(pathdfTest)\n",
    "merged_dfVal = pd.read_csv(pathdfVal)\n",
    "merged_dfTrain = pd.read_csv(pathdfTrain)\n",
    "\n",
    "# Unir los DataFrames\n",
    "merged_df = pd.concat([merged_dfTest, merged_dfVal, merged_dfTrain])\n",
    "\n",
    "# Asegúrate de que las columnas 'Slice' y 'VolumeSlices' contienen valores numéricos\n",
    "merged_df['Slice'] = pd.to_numeric(merged_df['Slice'])\n",
    "merged_df['VolumeSlices'] = pd.to_numeric(merged_df['VolumeSlices'])\n",
    "\n",
    "# Calcular los valores porcentuales de la columna 'Slice' con respecto a 'VolumeSlices'\n",
    "merged_df['Porcentaje'] = (merged_df['Slice'] / merged_df['VolumeSlices']) * 100\n",
    "\n",
    "# Calcular la media de los valores porcentuales\n",
    "media_porcentaje = merged_df['Porcentaje'].mean()\n",
    "\n",
    "print(\"La media de valores porcentuales de la columna 'Slice' con respecto a 'VolumeSlices' es:\", media_porcentaje)"
   ]
  },
  {
   "cell_type": "code",
   "execution_count": null,
   "id": "4358e0b8-2341-499a-ad84-23c614be4130",
   "metadata": {},
   "outputs": [],
   "source": [
    "#Prueba construccion imagen\n",
    "patgdfBoxes = \"D:/Codigo/Datos/InfValidation/boxes-validation.csv\"\n",
    "pathdf = \"D:/Codigo/Datos/InfValidation/merged_dfValidation_serialized.pickle\"\n",
    "pathNumpy = \"D:/Numpys/imagenesValCompletas\"\n",
    "merged_df = pd.read_pickle(pathdf)\n",
    "df_boxes = pd.read_csv(patgdfBoxes)\n",
    "index = 51\n",
    "primera_fila = merged_df.iloc[index]  #301 tiene una imagen\n",
    "\n",
    "# Encuentra todas las filas con el mismo 'StudyUID' que la primera fila\n",
    "filas_mismo_study_uid = merged_df[merged_df['StudyUID'] == primera_fila['StudyUID']]\n",
    "\n",
    "print(filas_mismo_study_uid)\n",
    "# Inicializa la imagen final como una matriz de ceros\n",
    "\n",
    "# Obtener la columna correspondiente Normal, Actionable, Cancer o Benign\n",
    "columna = obtener_columna(filas_mismo_study_uid.iloc[0])\n",
    "\n",
    "# Seleccionar las imágenes correspondientes a esta fila\n",
    "imagenes_seleccionada = seleccionar_imagenes(columna, filas_mismo_study_uid, df_boxes, pathNumpy)\n",
    "print(f\"imagenes_seleccionadas: {imagenes_seleccionada.shape}\")\n",
    "\n",
    "# Convertir la lista de resultados en un numpy array\n",
    "#resultados_array = np.array(imagenes_seleccionadas)\n",
    "\n",
    "# # Guardar el numpy array\n",
    "#np.save(\"resultados.npy\", resultados_array)\n",
    "\n",
    "# for i in range(10):\n",
    "#     resultado = combinar_imagenes(imagenes_seleccionadas[i])\n",
    "#     print(resultado.shape)# Guarda la imagen final\n",
    "#     cv2.imwrite(f\"resultados/image_{i}.png\", resultado)\n",
    "#     # Guardar la imagen final como un archivo Numpy serializado\n",
    "    #np.save(f\"final_image_{index}.npy\", resultado)"
   ]
  },
  {
   "cell_type": "code",
   "execution_count": null,
   "id": "3500f16f-5ec0-4845-8ec7-839784122453",
   "metadata": {},
   "outputs": [],
   "source": [
    "fig, axs = plt.subplots(2, 2, figsize=(10, 10))\n",
    "# Iterar sobre las imágenes y mostrarlas en los ejes correspondientes\n",
    "for i, ax in enumerate(axs.flatten()):\n",
    "    ax.imshow(imagenes_seleccionada[i])\n",
    "    ax.set_title(f'Imagen {i+1}')  # Añadir título a cada imagen\n",
    "    ax.axis('off')  # Desactivar los ejes\n",
    "\n",
    "plt.tight_layout()  # Ajustar el espaciado entre subgráficos\n",
    "plt.show()"
   ]
  },
  {
   "cell_type": "markdown",
   "id": "5e9ab175-5420-47f7-a8ae-37a67bdfd63e",
   "metadata": {},
   "source": [
    "# Separar en cáncer, benigno, actionable y normal"
   ]
  },
  {
   "cell_type": "code",
   "execution_count": 5,
   "id": "43c7ed94-9c12-473e-8589-57995ed07bbe",
   "metadata": {
    "editable": true,
    "slideshow": {
     "slide_type": ""
    },
    "tags": []
   },
   "outputs": [
    {
     "name": "stderr",
     "output_type": "stream",
     "text": [
      "Cargando imagen: 100%|█████████████████████████████████████████████████████████████████████████████████████████████████████████████████████████████████████████████████████████████████████| 1163/1163 [08:48<00:00,  2.20it/s]\n"
     ]
    }
   ],
   "source": [
    "# Validation\n",
    "patgdfBoxes = \"D:/Codigo/Datos/InfValidation/boxes-validation.csv\"\n",
    "pathdf = \"D:/Codigo/Datos/InfValidation/merged_dfValidation_serialized.pickle\"\n",
    "\n",
    "pathNumpySave = \"D:/Numpys/DBT Totales/TotalArray\"\n",
    "pathNumpy =     \"D:/Numpys/DBT Totales/imagenesValCompletas\"\n",
    "\n",
    "# Cargar el DataFrame desde un archivo pickle serializado\n",
    "merged_df = pd.read_pickle(pathdf)\n",
    "df_boxes = pd.read_csv(patgdfBoxes)\n",
    "\n",
    "for index, row in tqdm(merged_df.iterrows(), total=merged_df.shape[0], desc=\"Cargando imagen\"):\n",
    "    filas_mismo_study_uid = merged_df[merged_df['StudyUID'] == row['StudyUID']]\n",
    "    \n",
    "    if not filas_mismo_study_uid.empty:\n",
    "        merged_df.drop(filas_mismo_study_uid.index, inplace=True)\n",
    "        \n",
    "        columna = obtener_columna(filas_mismo_study_uid.iloc[0])\n",
    "        imagenes_seleccionadas = seleccionar_imagenes(columna, filas_mismo_study_uid, df_boxes, pathNumpy)\n",
    "        \n",
    "        nombre = f\"{filas_mismo_study_uid.iloc[0]['StudyUID']}_{filas_mismo_study_uid.iloc[0]['PatientID']}\"\n",
    "        ruta_archivo = os.path.join(f\"{pathNumpySave}{columna}\", nombre)\n",
    "        if os.path.exists(ruta_archivo):\n",
    "            print(f\"El archivo {ruta_archivo} ya existe.\")\n",
    "        np.save(ruta_archivo, imagenes_seleccionadas)"
   ]
  },
  {
   "cell_type": "code",
   "execution_count": 7,
   "id": "d639d584-0ade-4cf0-bc0c-013e51d681be",
   "metadata": {
    "editable": true,
    "slideshow": {
     "slide_type": ""
    },
    "tags": []
   },
   "outputs": [
    {
     "name": "stderr",
     "output_type": "stream",
     "text": [
      "Cargando imagen: 100%|█████████████████████████████████████████████████████████████████████████████████████████████████████████████████████████████████████████████████████████████████████| 1721/1721 [14:21<00:00,  2.00it/s]\n"
     ]
    }
   ],
   "source": [
    "# Test\n",
    "patgdfBoxes = \"D:/Codigo/Datos/InfTest/BCS-DBT-boxes-test-v2-PHASE-2-Jan-2024.csv\"\n",
    "pathdf = \"D:/Codigo/Datos/InfTest/merged_dfTest_serialized.pickle\"\n",
    "\n",
    "pathNumpySave = \"D:/Numpys/DBT Totales/TotalArray\"\n",
    "pathNumpy =     \"D:/Numpys/DBT Totales/imagenesTestCompletas\"\n",
    "\n",
    "# Cargar el DataFrame desde un archivo pickle serializado\n",
    "merged_df = pd.read_pickle(pathdf)\n",
    "df_boxes = pd.read_csv(patgdfBoxes)\n",
    "\n",
    "for index, row in tqdm(merged_df.iterrows(), total=merged_df.shape[0], desc=\"Cargando imagen\"):\n",
    "    filas_mismo_study_uid = merged_df[merged_df['StudyUID'] == row['StudyUID']]\n",
    "    \n",
    "    if not filas_mismo_study_uid.empty:\n",
    "        merged_df.drop(filas_mismo_study_uid.index, inplace=True)\n",
    "        \n",
    "        columna = obtener_columna(filas_mismo_study_uid.iloc[0])\n",
    "        imagenes_seleccionadas = seleccionar_imagenes(columna, filas_mismo_study_uid, df_boxes, pathNumpy)\n",
    "        \n",
    "        nombre = f\"{filas_mismo_study_uid.iloc[0]['StudyUID']}_{filas_mismo_study_uid.iloc[0]['PatientID']}\"\n",
    "        ruta_archivo = os.path.join(f\"{pathNumpySave}{columna}\", nombre)\n",
    "        if os.path.exists(ruta_archivo):\n",
    "            print(f\"El archivo {ruta_archivo} ya existe.\")\n",
    "        np.save(ruta_archivo, imagenes_seleccionadas)"
   ]
  },
  {
   "cell_type": "code",
   "execution_count": 8,
   "id": "1bfea3bd-64d0-45bd-b44f-c454df2e83d6",
   "metadata": {
    "editable": true,
    "slideshow": {
     "slide_type": ""
    },
    "tags": []
   },
   "outputs": [
    {
     "name": "stderr",
     "output_type": "stream",
     "text": [
      "Cargando imagen: 100%|█████████████████████████████████████████████████████████████████████████████████████████████████████████████████████████████████████████████████████████████████| 19148/19148 [3:09:35<00:00,  1.68it/s]\n"
     ]
    }
   ],
   "source": [
    "# Training\n",
    "patgdfBoxes = \"D:/Codigo/Datos/InfTraining/boxes-train.csv\"\n",
    "pathdf = \"D:/Codigo/Datos/InfTraining/merged_dfTraining_serialized.pickle\"\n",
    "\n",
    "pathNumpySave = \"D:/Numpys/DBT Totales/TotalArray\"\n",
    "pathNumpy =     \"D:/Numpys/DBT Totales/ImagenesTrainingCompletas\"\n",
    "\n",
    "# Cargar el DataFrame desde un archivo pickle serializado\n",
    "merged_df = pd.read_pickle(pathdf)\n",
    "df_boxes = pd.read_csv(patgdfBoxes)\n",
    "\n",
    "for index, row in tqdm(merged_df.iterrows(), total=merged_df.shape[0], desc=\"Cargando imagen\"):\n",
    "    filas_mismo_study_uid = merged_df[merged_df['StudyUID'] == row['StudyUID']]\n",
    "    \n",
    "    if not filas_mismo_study_uid.empty:\n",
    "        merged_df.drop(filas_mismo_study_uid.index, inplace=True)\n",
    "        \n",
    "        columna = obtener_columna(filas_mismo_study_uid.iloc[0])\n",
    "        imagenes_seleccionadas = seleccionar_imagenes(columna, filas_mismo_study_uid, df_boxes, pathNumpy)\n",
    "        \n",
    "        nombre = f\"{filas_mismo_study_uid.iloc[0]['StudyUID']}_{filas_mismo_study_uid.iloc[0]['PatientID']}\"\n",
    "        ruta_archivo = os.path.join(f\"{pathNumpySave}{columna}\", nombre)\n",
    "        if os.path.exists(ruta_archivo):\n",
    "            print(f\"El archivo {ruta_archivo} ya existe.\")\n",
    "        np.save(ruta_archivo, imagenes_seleccionadas)"
   ]
  },
  {
   "cell_type": "markdown",
   "id": "6a0e5d33-54a1-4f88-baf1-d12b5de06adf",
   "metadata": {},
   "source": [
    "# Separar en una imagen"
   ]
  },
  {
   "cell_type": "code",
   "execution_count": 76,
   "id": "a15619ce-1b3c-43d1-8773-2de9aa6a2601",
   "metadata": {},
   "outputs": [
    {
     "name": "stderr",
     "output_type": "stream",
     "text": [
      "Cargando imagen: 100%|█████████████████████████████████████████████████████████████| 1163/1163 [10:01<00:00,  1.93it/s]\n"
     ]
    }
   ],
   "source": [
    "# Validation\n",
    "patgdfBoxes = \"D:/Codigo/Datos/InfValidation/boxes-validation.csv\"\n",
    "pathdf = \"D:/Codigo/Datos/InfValidation/merged_dfValidation_serialized.pickle\"\n",
    "pathNumpySave = \"E:/DBT/Total_Una_Imagen\"\n",
    "pathNumpy = \"D:/Numpys/NumpysDBT/Total\"\n",
    "\n",
    "# Cargar el DataFrame desde un archivo pickle serializado\n",
    "merged_df = pd.read_pickle(pathdf)\n",
    "df_boxes = pd.read_csv(patgdfBoxes)\n",
    "\n",
    "\n",
    "# Iterar sobre las filas del DataFrame merged_df\n",
    "for index, row in tqdm(merged_df.iterrows(), total=merged_df.shape[0], desc=\"Cargando imagen\"):\n",
    "    filas_mismo_study_uid = merged_df[merged_df['StudyUID'] == row['StudyUID']]\n",
    "    \n",
    "    if not filas_mismo_study_uid.empty:\n",
    "        merged_df.drop(filas_mismo_study_uid.index, inplace=True)\n",
    "        \n",
    "        # Inicializa la imagen final como una matriz de ceros\n",
    "        final_image = np.zeros((1440, 1440), dtype=np.uint8)\n",
    "        \n",
    "        # Obtener la columna correspondiente Normal, Actionable, Cancer o Benign\n",
    "        columna = obtener_columna(filas_mismo_study_uid.iloc[0])\n",
    "        \n",
    "        # Seleccionar las imágenes correspondientes a esta fila\n",
    "        imagenes_seleccionadas = seleccionar_imagenes(columna, filas_mismo_study_uid, df_boxes, pathNumpy)\n",
    "        resultado = combinar_imagenes(imagenes_seleccionadas)\n",
    "        \n",
    "        # Guardar el numpy array\n",
    "        nombre = f\"{filas_mismo_study_uid.iloc[0]['StudyUID']}_{filas_mismo_study_uid.iloc[0]['PatientID']}\"\n",
    "        \n",
    "        ruta_archivo = os.path.join(f\"{pathNumpySave}{columna}\", nombre)\n",
    "        if os.path.exists(ruta_archivo):\n",
    "            print(f\"El archivo {ruta_archivo} ya existe.\")\n",
    "        \n",
    "        np.save(ruta_archivo, resultado)"
   ]
  },
  {
   "cell_type": "code",
   "execution_count": 77,
   "id": "d975a53d-de0c-4f42-8983-75b75a384e6d",
   "metadata": {},
   "outputs": [
    {
     "name": "stderr",
     "output_type": "stream",
     "text": [
      "Cargando imagen: 100%|█████████████████████████████████████████████████████████| 19148/19148 [2:20:58<00:00,  2.26it/s]\n"
     ]
    }
   ],
   "source": [
    "# Training\n",
    "patgdfBoxes = \"D:/Codigo/Datos/InfTraining/boxes-train.csv\"\n",
    "pathdf = \"D:/Codigo/Datos/InfTraining/merged_dfTraining_serialized.pickle\"\n",
    "pathNumpySave = \"E:/DBT/Total_Una_Imagen\"\n",
    "pathNumpy = \"D:/Numpys/NumpysDBT/Total\"\n",
    "\n",
    "# Cargar el DataFrame desde un archivo pickle serializado\n",
    "merged_df = pd.read_pickle(pathdf)\n",
    "df_boxes = pd.read_csv(patgdfBoxes)\n",
    "\n",
    "# Tamaño cuadrado deseado para las imágenes (en píxeles)\n",
    "tamano_cuadrado = 100\n",
    "\n",
    "# Iterar sobre las filas del DataFrame merged_df\n",
    "for index, row in tqdm(merged_df.iterrows(), total=merged_df.shape[0], desc=\"Cargando imagen\"):\n",
    "    filas_mismo_study_uid = merged_df[merged_df['StudyUID'] == row['StudyUID']]\n",
    "    \n",
    "    if not filas_mismo_study_uid.empty:\n",
    "        merged_df.drop(filas_mismo_study_uid.index, inplace=True)\n",
    "        \n",
    "        # Inicializa la imagen final como una matriz de ceros\n",
    "        final_image = np.zeros((1440, 1440), dtype=np.uint8)\n",
    "        \n",
    "        # Obtener la columna correspondiente Normal, Actionable, Cancer o Benign\n",
    "        columna = obtener_columna(filas_mismo_study_uid.iloc[0])\n",
    "        \n",
    "        # Seleccionar las imágenes correspondientes a esta fila\n",
    "        imagenes_seleccionadas = seleccionar_imagenes(columna, filas_mismo_study_uid, df_boxes, pathNumpy)\n",
    "        resultado = combinar_imagenes(imagenes_seleccionadas)\n",
    "        \n",
    "        # Guardar el numpy array\n",
    "        nombre = f\"{filas_mismo_study_uid.iloc[0]['StudyUID']}_{filas_mismo_study_uid.iloc[0]['PatientID']}\"\n",
    "        \n",
    "        ruta_archivo = os.path.join(f\"{pathNumpySave}{columna}\", nombre)\n",
    "        if os.path.exists(ruta_archivo):\n",
    "            print(f\"El archivo {ruta_archivo} ya existe.\")\n",
    "        \n",
    "        np.save(ruta_archivo, resultado)"
   ]
  },
  {
   "cell_type": "code",
   "execution_count": 78,
   "id": "21b98f7c-7c9e-45d2-bd16-17f0f5da8e03",
   "metadata": {},
   "outputs": [
    {
     "name": "stderr",
     "output_type": "stream",
     "text": [
      "Cargando imagen: 100%|█████████████████████████████████████████████████████████████| 1721/1721 [15:21<00:00,  1.87it/s]\n"
     ]
    }
   ],
   "source": [
    "# Test\n",
    "patgdfBoxes = \"D:/Codigo/Datos/InfTest/BCS-DBT-boxes-test-v2-PHASE-2-Jan-2024.csv\"\n",
    "pathdf = \"D:/Codigo/Datos/InfTest/merged_dfTest_serialized.pickle\"\n",
    "pathNumpySave = \"E:/DBT/Total_Una_Imagen\"\n",
    "pathNumpy = \"D:/Numpys/NumpysDBT/Total\"\n",
    "\n",
    "# Cargar el DataFrame desde un archivo pickle serializado\n",
    "merged_df = pd.read_pickle(pathdf)\n",
    "df_boxes = pd.read_csv(patgdfBoxes)\n",
    "\n",
    "# Tamaño cuadrado deseado para las imágenes (en píxeles)\n",
    "tamano_cuadrado = 100\n",
    "\n",
    "# Iterar sobre las filas del DataFrame merged_df\n",
    "for index, row in tqdm(merged_df.iterrows(), total=merged_df.shape[0], desc=\"Cargando imagen\"):\n",
    "    filas_mismo_study_uid = merged_df[merged_df['StudyUID'] == row['StudyUID']]\n",
    "    \n",
    "    if not filas_mismo_study_uid.empty:\n",
    "        merged_df.drop(filas_mismo_study_uid.index, inplace=True)\n",
    "        \n",
    "        # Inicializa la imagen final como una matriz de ceros\n",
    "        final_image = np.zeros((1440, 1440), dtype=np.uint8)\n",
    "        \n",
    "        # Obtener la columna correspondiente Normal, Actionable, Cancer o Benign\n",
    "        columna = obtener_columna(filas_mismo_study_uid.iloc[0])\n",
    "        \n",
    "        # Seleccionar las imágenes correspondientes a esta fila\n",
    "        imagenes_seleccionadas = seleccionar_imagenes(columna, filas_mismo_study_uid, df_boxes, pathNumpy)\n",
    "        resultado = combinar_imagenes(imagenes_seleccionadas)\n",
    "        \n",
    "        # Guardar el numpy array\n",
    "        nombre = f\"{filas_mismo_study_uid.iloc[0]['StudyUID']}_{filas_mismo_study_uid.iloc[0]['PatientID']}\"\n",
    "        \n",
    "        ruta_archivo = os.path.join(f\"{pathNumpySave}{columna}\", nombre)\n",
    "        if os.path.exists(ruta_archivo):\n",
    "            print(f\"El archivo {ruta_archivo} ya existe.\")\n",
    "        \n",
    "        np.save(ruta_archivo, resultado)"
   ]
  },
  {
   "cell_type": "markdown",
   "id": "f0f1caad-0ad6-4852-92a0-597df85cbf66",
   "metadata": {},
   "source": [
    "# ------------------------------ Comparar y seleccionar imágenes --------------------------------"
   ]
  },
  {
   "cell_type": "code",
   "execution_count": 3,
   "id": "fbb0c98a-8b43-49d8-ae74-3129740a357a",
   "metadata": {},
   "outputs": [],
   "source": [
    "# Función para calcular la Diferencia Absoluta (MAE) entre dos imágenes\n",
    "def calculate_mae(image1, image2):\n",
    "    return np.mean(np.abs(image1 - image2))"
   ]
  },
  {
   "cell_type": "code",
   "execution_count": 6,
   "id": "cafde51c-bc15-4361-b57d-a870c0ee4e0d",
   "metadata": {
    "editable": true,
    "slideshow": {
     "slide_type": ""
    },
    "tags": []
   },
   "outputs": [
    {
     "name": "stdout",
     "output_type": "stream",
     "text": [
      "Cantidad de archivos .npy encontrados: 5129\n",
      "Cantidad de archivos .npy seleccionados: 1282\n",
      "Cargando progreso previo...\n",
      "(1282,)\n"
     ]
    }
   ],
   "source": [
    "# Normal \n",
    "pathNumpy = \"E:/Numpys/DBT/TotalArraysImagenes/Normal\"\n",
    "pathNumpySave = \"E:/Numpys/DBT/ArraySelecionadas/Normal\"\n",
    "NumImagenes = 1000\n",
    "\n",
    "rutas_archivos = []\n",
    "for filename in os.listdir(pathNumpy):\n",
    "    if filename.endswith(\".npy\"):\n",
    "        rutas_archivos.append(os.path.join(pathNumpy, filename))\n",
    "\n",
    "# Lista para almacenar las rutas de los archivos .npy\n",
    "print(\"Cantidad de archivos .npy encontrados:\", len(rutas_archivos))\n",
    "\n",
    "# Aleatoriamente seleccionar el 25% de las imágenes\n",
    "np.random.shuffle(rutas_archivos)\n",
    "rutas_archivos = rutas_archivos[:int(len(rutas_archivos) * 0.25)]\n",
    "\n",
    "print(\"Cantidad de archivos .npy seleccionados:\", len(rutas_archivos))\n",
    "\n",
    "# Comprobar si existe un archivo de progreso guardado\n",
    "archivo_progreso = \"progresoSeleccionNormal.npy\"\n",
    "if os.path.exists(archivo_progreso):\n",
    "    print(\"Cargando progreso previo...\")\n",
    "    ssim_scores_promedio = np.load(archivo_progreso)\n",
    "else:\n",
    "    ssim_scores_promedio = np.empty((0,))\n",
    "\n",
    "# Calcular la Diferencia Absoluta (MAE) entre cada par de imágenes si no se ha calculado previamente\n",
    "# for i, ruta_i in enumerate(tqdm(rutas_archivos, desc=\"Comparando imágenes\", unit=\"archivo\", leave=False)):\n",
    "#     if i >= len(ssim_scores_promedio):  # Continuar desde donde se quedó\n",
    "#         archivo_i = np.load(ruta_i)\n",
    "#         scores_i = []\n",
    "#         for j, ruta_j in enumerate(rutas_archivos):\n",
    "#             if i != j:  # Evitar comparar un archivo consigo mismo\n",
    "#                 archivo_j = np.load(ruta_j)\n",
    "#                 score = calculate_mae(archivo_i, archivo_j)\n",
    "#                 scores_i.append(score)\n",
    "#         ssim_scores_promedio = np.append(ssim_scores_promedio, np.mean(scores_i))\n",
    "        \n",
    "#         # Guardar el progreso cada cierto intervalo de tiempo\n",
    "#         if i % 100 == 0:\n",
    "#             np.save(archivo_progreso, ssim_scores_promedio)\n",
    "print(ssim_scores_promedio.shape)\n",
    "# Ordenar los scores promedio de menor a mayor\n",
    "sorted_indices = np.argsort(ssim_scores_promedio)\n",
    "\n",
    "# Seleccionar los NumImagenes archivos menos similares al resto\n",
    "indices_seleccionados = sorted_indices[:NumImagenes]\n",
    "\n",
    "# Guardar los archivos seleccionados con sus nombres originales\n",
    "for idx in indices_seleccionados:\n",
    "    nombre_original = os.path.basename(rutas_archivos[idx])  # Obtener el nombre original del archivo\n",
    "    np.save(os.path.join(pathNumpySave, nombre_original), np.load(rutas_archivos[idx]))"
   ]
  }
 ],
 "metadata": {
  "kernelspec": {
   "display_name": "Python 3 (ipykernel)",
   "language": "python",
   "name": "python3"
  },
  "language_info": {
   "codemirror_mode": {
    "name": "ipython",
    "version": 3
   },
   "file_extension": ".py",
   "mimetype": "text/x-python",
   "name": "python",
   "nbconvert_exporter": "python",
   "pygments_lexer": "ipython3",
   "version": "3.10.14"
  }
 },
 "nbformat": 4,
 "nbformat_minor": 5
}
